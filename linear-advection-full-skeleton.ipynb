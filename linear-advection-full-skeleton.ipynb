{
 "metadata": {
  "name": "",
  "signature": "sha256:65f2609f4ee43233382791941331b0eb01ece355ca600211c62d6f0af40fac95"
 },
 "nbformat": 3,
 "nbformat_minor": 0,
 "worksheets": [
  {
   "cells": [
    {
     "cell_type": "heading",
     "level": 1,
     "metadata": {},
     "source": [
      "Spectral Methods for Linear Advection"
     ]
    },
    {
     "cell_type": "markdown",
     "metadata": {},
     "source": [
      "As an extremely simple example, we solve the linear advection equation\n",
      "$$\\frac{\\partial u}{\\partial t} = c \\frac{\\partial u}{\\partial x}$$\n",
      "using spectral methods. \n",
      "\n",
      "For simplicity, we study the equation on the domain \n",
      "$$\\Omega=[-\\pi,\\pi]$$\n",
      "with periodic boundary conditions.\n",
      "\n",
      "We represent our function as a sum over positive and negative frequencies of Fourier modes for a total of $2N+1$ modes.\n",
      "$$u(t,x) = a_0 + \\sum_{k=1}^N\\left[ a_k(t) \\cos(kx) + b_k(t) \\sin(kx) \\right]$$\n",
      "our vector of coefficients, then, is\n",
      "$$\\vec{u} = [a_0,a_1,b_1,...,a_N,b_N]$$\n",
      "\n",
      "We can solve this numerically using the techniques we've learned so far.\n",
      "\n",
      "Let's get to it. First, let's import our modules."
     ]
    },
    {
     "cell_type": "code",
     "collapsed": false,
     "input": [
      "# First we import our modules\n",
      "%matplotlib inline\n",
      "import numpy \n",
      "from scipy import integrate\n",
      "from numpy import linalg\n",
      "import matplotlib.pyplot as plt\n",
      "from matplotlib import animation\n",
      "from JSAnimation.IPython_display import display_animation\n",
      "from matplotlib import rcParams\n",
      "rcParams['font.family'] = 'serif'\n",
      "rcParams['font.size'] = 16"
     ],
     "language": "python",
     "metadata": {},
     "outputs": []
    },
    {
     "cell_type": "markdown",
     "metadata": {},
     "source": [
      "Define global constants"
     ]
    },
    {
     "cell_type": "code",
     "collapsed": false,
     "input": [
      "# We define the ORDER of approximation \n",
      "N = 7\n",
      "# And the speed of wave propogation\n",
      "c = -1\n",
      "# and the min and max of the domain\n",
      "xmin = -numpy.pi\n",
      "xmax = numpy.pi"
     ],
     "language": "python",
     "metadata": {},
     "outputs": []
    },
    {
     "cell_type": "markdown",
     "metadata": {},
     "source": [
      "For convenience, we define the functional inner product using scipy's integration feature."
     ]
    },
    {
     "cell_type": "code",
     "collapsed": false,
     "input": [
      "def inner(a,b):\n",
      "    \"\"\"\n",
      "    Compute the inner product of functions a and b on the interval\n",
      "    \"\"\"\n",
      "    return (2.0/(xmax-xmin))*integrate.quad(lambda x: a(x)*b(x),xmin,xmax)[0]"
     ],
     "language": "python",
     "metadata": {},
     "outputs": []
    },
    {
     "cell_type": "markdown",
     "metadata": {},
     "source": [
      "Define basis functions. We define them as:\n",
      "$$\\phi_k(x) = \\begin{cases}\\sqrt{\\frac{1}{2}}&\\text{if }k = 0\\\\\\cos((k/2)x)&\\text{if }k\\text{ even}\\\\\\sin((k+1)x/2)&\\text{if }k\\text{ odd}\\end{cases},$$"
     ]
    },
    {
     "cell_type": "code",
     "collapsed": false,
     "input": [
      "# First we define the function analyticially\n",
      "def phi(k,x):\n",
      "    assert type(k) == int\n",
      "    # FILL THIS IN"
     ],
     "language": "python",
     "metadata": {},
     "outputs": []
    },
    {
     "cell_type": "markdown",
     "metadata": {},
     "source": [
      "Let's plot a few of these:"
     ]
    },
    {
     "cell_type": "code",
     "collapsed": false,
     "input": [
      "x = numpy.linspace(xmin,xmax,100)\n",
      "[plt.plot(x,phi(k,x)) for k in range(3)]"
     ],
     "language": "python",
     "metadata": {},
     "outputs": []
    },
    {
     "cell_type": "markdown",
     "metadata": {},
     "source": [
      "Now, assume we have a vector $\\vec{u}=[u_0,u_1,...,u_n]$ of Fourier coefficients. How do we extract the $u(x)$? Let's define a function to do it."
     ]
    },
    {
     "cell_type": "code",
     "collapsed": false,
     "input": [
      "def solution(u):\n",
      "    \"\"\"\n",
      "    Takes a vector u of coefficients u_i and returns the true function\n",
      "    u(x) = sum(u_i * e^(inx))\n",
      "    \"\"\"\n",
      "    # Fill this in."
     ],
     "language": "python",
     "metadata": {},
     "outputs": []
    },
    {
     "cell_type": "markdown",
     "metadata": {},
     "source": [
      "Let's get it over with and define an initial function. We'll use \n",
      "$$u0=u(0,x) = \\sin(e^{-x^2}).$$\n",
      "Let's plot it:"
     ]
    },
    {
     "cell_type": "code",
     "collapsed": false,
     "input": [
      "x = numpy.linspace(xmin,xmax,100)\n",
      "u_initial = lambda x: numpy.sin(numpy.exp(-x**2))\n",
      "plt.plot(x,u_initial(x))"
     ],
     "language": "python",
     "metadata": {},
     "outputs": []
    },
    {
     "cell_type": "markdown",
     "metadata": {},
     "source": [
      "This has the (rather nasty) analytic solution\n",
      "$$u(t,x) = \\sin(e^{-\\text{mod}(t-x,2\\pi)^2})+\\sin(e^{-\\text{mod}(t-x,-2\\pi)^2}).$$"
     ]
    },
    {
     "cell_type": "markdown",
     "metadata": {},
     "source": [
      "How do we convert this into a spectral representation? Like this!"
     ]
    },
    {
     "cell_type": "code",
     "collapsed": false,
     "input": [
      "def to_modal(u_func):\n",
      "    \"\"\"\n",
      "    Projects a function u_func onto our discrete \n",
      "    Fourier basis and returns a vector u\n",
      "    of Fourier coefficients\n",
      "    \"\"\"\n",
      "    # Fill this in\n",
      "\n",
      "u0 = to_modal(u_initial)"
     ],
     "language": "python",
     "metadata": {},
     "outputs": []
    },
    {
     "cell_type": "markdown",
     "metadata": {},
     "source": [
      "Let's see if it looks right."
     ]
    },
    {
     "cell_type": "code",
     "collapsed": false,
     "input": [
      "plt.plot(x,numpy.vectorize(solution(u0))(x))"
     ],
     "language": "python",
     "metadata": {},
     "outputs": []
    },
    {
     "cell_type": "markdown",
     "metadata": {},
     "source": [
      "Let's define a derivative operator. What's the best way to do that? We have:\n",
      "$$\\frac{d\\phi_k}{dx} = \\begin{cases}0&\\text{if }k=0\\\\-\\frac{k}{2}\\sin((k/2)x)&\\text{if }k\\text{ even}\\\\\\frac{k+1}{2}\\cos((1+k)x/2)&\\text{if }k\\text{ odd}\\end{cases}$$\n",
      "And this is:\n",
      "$$\\frac{d\\phi_k}{dx} = \\begin{cases}0&\\text{if }k=0\\\\-\\frac{k}{2}\\phi_{k-1}&\\text{if }k\\text{ even}\\\\\\frac{k+1}{2}\\phi_{k+1}&\\text{if }k\\text{ odd}\\end{cases}$$"
     ]
    },
    {
     "cell_type": "code",
     "collapsed": false,
     "input": [
      "# Differentiation matrix "
     ],
     "language": "python",
     "metadata": {},
     "outputs": []
    },
    {
     "cell_type": "code",
     "collapsed": false,
     "input": [
      "def rhs(u):\n",
      "    \"\"\"\n",
      "    Given a vector of Fourier coefficeints u, returns du/dt\n",
      "    \"\"\"\n",
      "    return c*numpy.dot(D,u)\n",
      "    \n",
      "# For technical reasons, don't use Euler step.\n",
      "def RK2_step(u,dt):\n",
      "    \"\"\"\n",
      "    Maps u at time t to u at time t + dt, where u is a vector of Fourier coefficients\n",
      "    \"\"\"\n",
      "    u_temp = u + 0.5*dt*rhs(u)\n",
      "    return u + dt*rhs(u_temp)"
     ],
     "language": "python",
     "metadata": {},
     "outputs": []
    },
    {
     "cell_type": "markdown",
     "metadata": {},
     "source": [
      "Okay, let's evolve this thing in time.\n",
      "\n",
      "A word on the CFL condition. Here assume that $\\Delta x$ is the wavelength of your smallest mode. In our case, this means that $\\Delta x$ should be $\\pi/(N)$."
     ]
    },
    {
     "cell_type": "code",
     "collapsed": false,
     "input": [
      "NUM_T = 100\n",
      "tmax=2*numpy.pi\n",
      "t = numpy.linspace(0,tmax,NUM_T)\n",
      "dt=t[1]-t[0]\n",
      "u = numpy.empty((len(t),len(u0)))\n",
      "u[0] = u0 # set initial condition\n",
      "# Integrate!\n",
      "for i in range(1,len(t)):\n",
      "    u[i] = RK2_step(u[i-1],dt)"
     ],
     "language": "python",
     "metadata": {},
     "outputs": []
    },
    {
     "cell_type": "markdown",
     "metadata": {},
     "source": [
      "Let's animate it!"
     ]
    },
    {
     "cell_type": "code",
     "collapsed": false,
     "input": [
      "fig = plt.figure()\n",
      "ax = plt.axes(xlim=(xmin,xmax),ylim=(0,1),xlabel=('x'),ylabel=('u'))\n",
      "line1, = ax.plot([],[],color='#003366', lw=2)\n",
      "line2, = ax.plot([],[],'r--',lw=2)\n",
      "def animate(i):\n",
      "    line1.set_data(x,numpy.vectorize(solution(u[i]))(x))\n",
      "    line2.set_data(x,numpy.sin(numpy.exp(-((t[i]-x)%(-2*numpy.pi))**2))+numpy.sin(numpy.exp(-((t[i]-x)%(2*numpy.pi))**2)))\n",
      "    return line1,line2\n",
      "animation.FuncAnimation(fig, animate, frames=len(t), interval=10)"
     ],
     "language": "python",
     "metadata": {},
     "outputs": []
    },
    {
     "cell_type": "code",
     "collapsed": false,
     "input": [],
     "language": "python",
     "metadata": {},
     "outputs": []
    }
   ],
   "metadata": {}
  }
 ]
}