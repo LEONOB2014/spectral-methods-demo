{
 "metadata": {
  "name": "",
  "signature": "sha256:7bfe8cf4de19bb1021404c8d271eeb0052a2d81082afc3abcde913db5638f567"
 },
 "nbformat": 3,
 "nbformat_minor": 0,
 "worksheets": [
  {
   "cells": [
    {
     "cell_type": "heading",
     "level": 1,
     "metadata": {},
     "source": [
      "Spectral Methods for Linear Advection"
     ]
    },
    {
     "cell_type": "markdown",
     "metadata": {},
     "source": [
      "As an extremely simple example, we solve the linear advection equation\n",
      "$$\\frac{\\partial u}{\\partial t} = c \\frac{\\partial u}{\\partial x}$$\n",
      "using spectral methods. \n",
      "\n",
      "For simplicity, we study the equation on the domain \n",
      "$$\\Omega=[-\\pi,\\pi]$$\n",
      "with periodic boundary conditions.\n",
      "\n",
      "We represent our function as a sum over positive and negative frequencies of Fourier modes for a total of $2N+1$ modes.\n",
      "$$u(t,x) = \\frac{1}{2} a_0 + \\sum_{k=1}^N\\left[ a_k(t) \\cos(kx) + b_k(t) \\sin(kx) \\right]$$\n",
      "our vector of coefficients, then, is\n",
      "$$\\vec{u} = [a_0,a_1,b_1,...,a_N,b_N]$$\n",
      "\n",
      "We can solve this numerically using the techniques we've learned so far.\n",
      "\n",
      "Let's get to it. First, let's import our modules."
     ]
    },
    {
     "cell_type": "code",
     "collapsed": false,
     "input": [
      "# First we import our modules\n",
      "%matplotlib inline\n",
      "import numpy \n",
      "import sympy\n",
      "from scipy import integrate\n",
      "from numpy import linalg\n",
      "import matplotlib.pyplot as plt\n",
      "from matplotlib import animation\n",
      "from JSAnimation.IPython_display import display_animation\n",
      "from sympy import init_printing\n",
      "from matplotlib import rcParams\n",
      "rcParams['font.family'] = 'serif'\n",
      "rcParams['font.size'] = 16\n",
      "init_printing()"
     ],
     "language": "python",
     "metadata": {},
     "outputs": [],
     "prompt_number": 1
    },
    {
     "cell_type": "markdown",
     "metadata": {},
     "source": [
      "Define global constants"
     ]
    },
    {
     "cell_type": "code",
     "collapsed": false,
     "input": [
      "# We define the ORDER of approximation \n",
      "N = 20\n",
      "# And the speed of wave propogation\n",
      "c = -1\n",
      "# and the min and max of the domain\n",
      "xmin = -numpy.pi\n",
      "xmax = numpy.pi"
     ],
     "language": "python",
     "metadata": {},
     "outputs": [],
     "prompt_number": 2
    },
    {
     "cell_type": "markdown",
     "metadata": {},
     "source": [
      "For convenience, we define the functional inner product using scipy's integration feature."
     ]
    },
    {
     "cell_type": "code",
     "collapsed": false,
     "input": [
      "# DEFINE INNER PRODUCT HERE"
     ],
     "language": "python",
     "metadata": {},
     "outputs": [],
     "prompt_number": 3
    },
    {
     "cell_type": "markdown",
     "metadata": {},
     "source": [
      "Define basis functions. We define them as:\n",
      "$$\\phi_k(x) = \\begin{cases}\\frac{1}{2}&\\text{if }k = 0\\\\\\cos((k/2)x)&\\text{if }k\\text{ even}\\\\\\sin((1+k/2)x)&\\text{if }k\\text{ odd}\\end{cases},$$\n",
      "where $k/2$ is defined as _integer division_ and always returns the _floor_ of a floating point number."
     ]
    },
    {
     "cell_type": "markdown",
     "metadata": {},
     "source": [
      "To calculate differentiation properties, we will need to use sympy. This follows below."
     ]
    },
    {
     "cell_type": "code",
     "collapsed": false,
     "input": [
      "# First we define the function analyticially\n",
      "y = sympy.Symbol('y',real=True)\n",
      "# DEFINE THE MODES USING SYMPY HERE, SO THAT WE CAN DIFFERENTIATE THEM"
     ],
     "language": "python",
     "metadata": {},
     "outputs": [],
     "prompt_number": 4
    },
    {
     "cell_type": "markdown",
     "metadata": {},
     "source": [
      "We also define an array of basis elements an array of their derivatives:"
     ]
    },
    {
     "cell_type": "code",
     "collapsed": false,
     "input": [
      "# MAKE ARRAYS OF BASIS ELEMENTS AND THEIR DERIVATIVES"
     ],
     "language": "python",
     "metadata": {},
     "outputs": [],
     "prompt_number": 5
    },
    {
     "cell_type": "markdown",
     "metadata": {},
     "source": [
      "Next, we calculate the mass and stiffness matrices and use them to calculate the differentiation matrix."
     ]
    },
    {
     "cell_type": "code",
     "collapsed": false,
     "input": [
      "# CALCULATE DIFFERENTIATION MATRIX"
     ],
     "language": "python",
     "metadata": {},
     "outputs": [],
     "prompt_number": 6
    },
    {
     "cell_type": "markdown",
     "metadata": {},
     "source": [
      "Now, assume we have a vector $\\vec{u}=[u_0,u_1,...,u_n]$ of Fourier coefficients. How do we extract the $u(x)$? Let's define a function to do it."
     ]
    },
    {
     "cell_type": "code",
     "collapsed": false,
     "input": [
      "# DEFINE FUNCTION TO MAP FOURIER REPRESENTATION TO POSITION REPRESENTATION\n"
     ],
     "language": "python",
     "metadata": {},
     "outputs": [],
     "prompt_number": 7
    },
    {
     "cell_type": "markdown",
     "metadata": {},
     "source": [
      "Let's get it over with and define an initial function. We'll use \n",
      "$$u0=u(0,x) = \\sin(e^{-(x-\\pi)^2}).$$\n",
      "Let's plot it:"
     ]
    },
    {
     "cell_type": "code",
     "collapsed": false,
     "input": [
      "x = numpy.linspace(xmin,xmax,100)\n",
      "u_initial = lambda x: numpy.sin(numpy.exp(-x**2))\n",
      "plt.plot(x,u_initial(x))"
     ],
     "language": "python",
     "metadata": {},
     "outputs": [
      {
       "metadata": {},
       "output_type": "pyout",
       "prompt_number": 8,
       "text": [
        "[<matplotlib.lines.Line2D at 0x7fe98dad0b10>]"
       ]
      },
      {
       "metadata": {},
       "output_type": "display_data",
       "png": "[encoded data removed]",
       "text": [
        "<matplotlib.figure.Figure at 0x7fe997f21210>"
       ]
      }
     ],
     "prompt_number": 8
    },
    {
     "cell_type": "markdown",
     "metadata": {},
     "source": [
      "How do we convert this into a spectral representation? Like this!"
     ]
    },
    {
     "cell_type": "code",
     "collapsed": false,
     "input": [
      "# DEFINE FUNCTION TO CONVERT POSITION SPACE REPRESENTATION\n",
      "# INTO FOURIER REPRESENTATION AND USE IT"
     ],
     "language": "python",
     "metadata": {},
     "outputs": [],
     "prompt_number": 9
    },
    {
     "cell_type": "markdown",
     "metadata": {},
     "source": [
      "Let's see if it looks right."
     ]
    },
    {
     "cell_type": "markdown",
     "metadata": {},
     "source": [
      "We're ready to define an integration scheme. For technical reasons, we cannot use an Euler step. So we'll instead use RK2."
     ]
    },
    {
     "cell_type": "code",
     "collapsed": false,
     "input": [
      "# DEFINE INTEGRATION SCHEME"
     ],
     "language": "python",
     "metadata": {},
     "outputs": []
    },
    {
     "cell_type": "markdown",
     "metadata": {},
     "source": [
      "Let's animate it!"
     ]
    },
    {
     "cell_type": "code",
     "collapsed": false,
     "input": [
      "# ANIMATION STUB\n",
      "fig = plt.figure()\n",
      "ax = plt.axes(xlim=(xmin,xmax),ylim=(0,1),xlabel=('x'),ylabel=('u'))\n",
      "line, = ax.plot([],[],color='#003366', lw=2)\n",
      "def animate(i):\n",
      "    line.set_data(x,numpy.vectorize(solution(u[i]))(x))\n",
      "    return line\n",
      "animation.FuncAnimation(fig, animate, frames=len(t), interval=10)"
     ],
     "language": "python",
     "metadata": {},
     "outputs": []
    }
   ],
   "metadata": {}
  }
 ]
}